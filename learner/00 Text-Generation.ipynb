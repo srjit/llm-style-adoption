{
 "cells": [
  {
   "cell_type": "markdown",
   "id": "27a185ee-5d64-447c-9dfe-2907e8f37018",
   "metadata": {},
   "source": [
    "## Base Model"
   ]
  },
  {
   "cell_type": "code",
   "execution_count": 1,
   "id": "68fb148f-2741-4a47-ae49-86787c989561",
   "metadata": {},
   "outputs": [
    {
     "name": "stderr",
     "output_type": "stream",
     "text": [
      "/Users/sreejithsreekumar/venvs/transformers/lib/python3.9/site-packages/tqdm/auto.py:21: TqdmWarning: IProgress not found. Please update jupyter and ipywidgets. See https://ipywidgets.readthedocs.io/en/stable/user_install.html\n",
      "  from .autonotebook import tqdm as notebook_tqdm\n",
      "Xformers is not installed correctly. If you want to use memory_efficient_attention to accelerate training use the following command to install Xformers\n",
      "pip install xformers.\n"
     ]
    }
   ],
   "source": [
    "from transformers import pipeline, set_seed\n",
    "generator = pipeline('text-generation', model='gpt2')\n",
    "set_seed(42)"
   ]
  },
  {
   "cell_type": "code",
   "execution_count": 2,
   "id": "fa8d434f-9d76-48ec-be09-9cc84064db49",
   "metadata": {},
   "outputs": [
    {
     "name": "stderr",
     "output_type": "stream",
     "text": [
      "Setting `pad_token_id` to `eos_token_id`:50256 for open-end generation.\n",
      "Input length of input_ids is 5, but `max_length` is set to 5. This can lead to unexpected behavior. You should consider increasing `max_new_tokens`.\n"
     ]
    },
    {
     "data": {
      "text/plain": [
       "[{'generated_text': 'Client reflects a more balanced approach'},\n",
       " {'generated_text': 'Client reflects a more balanced perspective'},\n",
       " {'generated_text': 'Client reflects a more balanced portrait'},\n",
       " {'generated_text': 'Client reflects a more balanced and'},\n",
       " {'generated_text': 'Client reflects a more balanced,'}]"
      ]
     },
     "execution_count": 2,
     "metadata": {},
     "output_type": "execute_result"
    }
   ],
   "source": [
    "generator(\"Client reflects a more balanced\", max_length=5, num_return_sequences=5)"
   ]
  },
  {
   "cell_type": "code",
   "execution_count": 3,
   "id": "f8a6e312-adb0-4e71-9fd2-5b859982f148",
   "metadata": {},
   "outputs": [
    {
     "data": {
      "text/plain": [
       "[{'generated_text': 'Client reflects a lot of'},\n",
       " {'generated_text': 'Client reflects the entire future'},\n",
       " {'generated_text': 'Client reflects on something,'},\n",
       " {'generated_text': 'Client reflects on something i'},\n",
       " {'generated_text': 'Client reflects upon him the'}]"
      ]
     },
     "execution_count": 3,
     "metadata": {},
     "output_type": "execute_result"
    }
   ],
   "source": [
    "generator = pipeline('text-generation', model='openai-gpt')\n",
    "generator(\"Client reflects\", max_length=5, num_return_sequences=5)"
   ]
  },
  {
   "cell_type": "code",
   "execution_count": 4,
   "id": "cc81d96e-a71c-4ef9-9081-47bb6d7e0196",
   "metadata": {},
   "outputs": [
    {
     "data": {
      "text/plain": [
       "[{'generated_text': 'Client reflects events, and'},\n",
       " {'generated_text': 'Client reflects events just a'},\n",
       " {'generated_text': 'Client reflects events as they'},\n",
       " {'generated_text': 'Client reflects events on her'},\n",
       " {'generated_text': 'Client reflects events by those'}]"
      ]
     },
     "execution_count": 4,
     "metadata": {},
     "output_type": "execute_result"
    }
   ],
   "source": [
    "generator(\"Client reflects events\", max_length=5, num_return_sequences=5)"
   ]
  },
  {
   "cell_type": "code",
   "execution_count": 5,
   "id": "335f3e8c-7b53-4400-9de9-57504ce2f86d",
   "metadata": {},
   "outputs": [
    {
     "name": "stderr",
     "output_type": "stream",
     "text": [
      "Input length of input_ids is 7, but `max_length` is set to 5. This can lead to unexpected behavior. You should consider increasing `max_new_tokens`.\n"
     ]
    },
    {
     "data": {
      "text/plain": [
       "[{'generated_text': 'Client reflects events in the past week,'},\n",
       " {'generated_text': 'Client reflects events in the past week in'},\n",
       " {'generated_text': 'Client reflects events in the past week ;'},\n",
       " {'generated_text': 'Client reflects events in the past week.'},\n",
       " {'generated_text': 'Client reflects events in the past week.'},\n",
       " {'generated_text': 'Client reflects events in the past week.'},\n",
       " {'generated_text': 'Client reflects events in the past week.'},\n",
       " {'generated_text': 'Client reflects events in the past week,'},\n",
       " {'generated_text': 'Client reflects events in the past week and'},\n",
       " {'generated_text': 'Client reflects events in the past week to'}]"
      ]
     },
     "execution_count": 5,
     "metadata": {},
     "output_type": "execute_result"
    }
   ],
   "source": [
    "generator(\"Client reflects events in the past week\", max_length=5, num_return_sequences=10)"
   ]
  }
 ],
 "metadata": {
  "kernelspec": {
   "display_name": "transformers",
   "language": "python",
   "name": "transformers"
  },
  "language_info": {
   "codemirror_mode": {
    "name": "ipython",
    "version": 3
   },
   "file_extension": ".py",
   "mimetype": "text/x-python",
   "name": "python",
   "nbconvert_exporter": "python",
   "pygments_lexer": "ipython3",
   "version": "3.9.9"
  }
 },
 "nbformat": 4,
 "nbformat_minor": 5
}
