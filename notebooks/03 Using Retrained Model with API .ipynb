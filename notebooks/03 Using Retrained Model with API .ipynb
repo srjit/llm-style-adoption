{
 "cells": [
  {
   "cell_type": "code",
   "execution_count": 1,
   "id": "4c5fd5f0-1119-48e2-bb62-818aca88a889",
   "metadata": {
    "tags": []
   },
   "outputs": [],
   "source": [
    "import sys\n",
    "sys.path.append(\"../src\")"
   ]
  },
  {
   "cell_type": "code",
   "execution_count": 2,
   "id": "84cb075c-8332-4829-84da-4c87c0cb39ab",
   "metadata": {
    "tags": []
   },
   "outputs": [],
   "source": [
    "from transformers import pipeline, set_seed\n",
    "from transformers import GPT2Tokenizer\n",
    "\n",
    "import suggestions\n"
   ]
  },
  {
   "cell_type": "code",
   "execution_count": 3,
   "id": "2054aca4-7f6d-4b80-b667-5f1f959e4bf7",
   "metadata": {},
   "outputs": [],
   "source": [
    "#suggestions.retrain()"
   ]
  },
  {
   "cell_type": "code",
   "execution_count": 4,
   "id": "3701ff62-9445-45a2-963d-d7de9dfbbd7e",
   "metadata": {
    "tags": []
   },
   "outputs": [
    {
     "name": "stderr",
     "output_type": "stream",
     "text": [
      "Special tokens have been added in the vocabulary, make sure the associated word embeddings are fine-tuned or trained.\n"
     ]
    },
    {
     "name": "stdout",
     "output_type": "stream",
     "text": [
      "Using retrained model version:  1\n"
     ]
    },
    {
     "name": "stderr",
     "output_type": "stream",
     "text": [
      "Setting `pad_token_id` to `eos_token_id`:50256 for open-end generation.\n"
     ]
    },
    {
     "data": {
      "text/plain": [
       "[{'generated_text': 'Client reflects a more balanced book;\\n\\nAnd the'},\n",
       " {'generated_text': 'Client reflects a more balanced form, and a more spacious'},\n",
       " {'generated_text': 'Client reflects a more balanced age,\\nA young age'},\n",
       " {'generated_text': 'Client reflects a more balanced sun!\\n   '},\n",
       " {'generated_text': 'Client reflects a more balanced world,\\nWhen it comes'}]"
      ]
     },
     "execution_count": 4,
     "metadata": {},
     "output_type": "execute_result"
    }
   ],
   "source": [
    "text = \"Client reflects a more balanced\"\n",
    "suggestions.get(text)"
   ]
  },
  {
   "cell_type": "code",
   "execution_count": null,
   "id": "5a5f200b-0faa-4f3d-829c-858b92357738",
   "metadata": {},
   "outputs": [],
   "source": []
  },
  {
   "cell_type": "code",
   "execution_count": null,
   "id": "e69dceda-68ba-4bb8-a187-f0be6eb5b7c5",
   "metadata": {},
   "outputs": [],
   "source": []
  },
  {
   "cell_type": "code",
   "execution_count": null,
   "id": "91d3a8ea-9610-4ba3-a1b3-0ac1e3ac9f34",
   "metadata": {},
   "outputs": [],
   "source": []
  },
  {
   "cell_type": "code",
   "execution_count": null,
   "id": "b1a9f249-a1bf-4860-bec0-fc3d2b3bb5f2",
   "metadata": {},
   "outputs": [],
   "source": []
  },
  {
   "cell_type": "code",
   "execution_count": null,
   "id": "c17af70e-f2fb-4034-b3ad-8c12a5f9533d",
   "metadata": {},
   "outputs": [],
   "source": []
  },
  {
   "cell_type": "code",
   "execution_count": null,
   "id": "e8cfd1d4-8722-467f-a1c8-6cb481e3d80d",
   "metadata": {
    "tags": []
   },
   "outputs": [],
   "source": [
    "text = \"Music to hear\"\n",
    "generator(text, max_length=20, num_return_sequences=5)"
   ]
  },
  {
   "cell_type": "code",
   "execution_count": 5,
   "id": "c31bf713-6982-43f9-8fa4-8093262113ad",
   "metadata": {
    "tags": []
   },
   "outputs": [
    {
     "name": "stderr",
     "output_type": "stream",
     "text": [
      "Special tokens have been added in the vocabulary, make sure the associated word embeddings are fine-tuned or trained.\n"
     ]
    },
    {
     "name": "stdout",
     "output_type": "stream",
     "text": [
      "Using retrained model version:  1\n"
     ]
    },
    {
     "name": "stderr",
     "output_type": "stream",
     "text": [
      "Setting `pad_token_id` to `eos_token_id`:50256 for open-end generation.\n"
     ]
    },
    {
     "data": {
      "text/plain": [
       "[{'generated_text': 'Music to hear (The word) the praises,'},\n",
       " {'generated_text': 'Music to hear is better than to know it.'},\n",
       " {'generated_text': 'Music to hear and to wind\\nMy love'},\n",
       " {'generated_text': 'Music to hear, from whom not it dwells'},\n",
       " {'generated_text': 'Music to hear, when others hear, with them'}]"
      ]
     },
     "execution_count": 5,
     "metadata": {},
     "output_type": "execute_result"
    }
   ],
   "source": [
    "suggestions.get(text)"
   ]
  }
 ],
 "metadata": {
  "kernelspec": {
   "display_name": "transformers",
   "language": "python",
   "name": "transformers"
  },
  "language_info": {
   "codemirror_mode": {
    "name": "ipython",
    "version": 3
   },
   "file_extension": ".py",
   "mimetype": "text/x-python",
   "name": "python",
   "nbconvert_exporter": "python",
   "pygments_lexer": "ipython3",
   "version": "3.9.9"
  }
 },
 "nbformat": 4,
 "nbformat_minor": 5
}
