{
 "cells": [
  {
   "cell_type": "code",
   "execution_count": 1,
   "id": "4c5fd5f0-1119-48e2-bb62-818aca88a889",
   "metadata": {
    "tags": []
   },
   "outputs": [],
   "source": [
    "import sys\n",
    "sys.path.append(\"../src\")"
   ]
  },
  {
   "cell_type": "code",
   "execution_count": 2,
   "id": "84cb075c-8332-4829-84da-4c87c0cb39ab",
   "metadata": {
    "tags": []
   },
   "outputs": [],
   "source": [
    "from transformers import pipeline, set_seed\n",
    "from transformers import GPT2Tokenizer\n",
    "\n",
    "import suggestions\n"
   ]
  },
  {
   "cell_type": "code",
   "execution_count": 3,
   "id": "3701ff62-9445-45a2-963d-d7de9dfbbd7e",
   "metadata": {
    "tags": []
   },
   "outputs": [],
   "source": [
    "generator = pipeline('text-generation', model='gpt2')"
   ]
  },
  {
   "cell_type": "code",
   "execution_count": 4,
   "id": "e8cfd1d4-8722-467f-a1c8-6cb481e3d80d",
   "metadata": {
    "tags": []
   },
   "outputs": [
    {
     "name": "stderr",
     "output_type": "stream",
     "text": [
      "Setting `pad_token_id` to `eos_token_id`:50256 for open-end generation.\n"
     ]
    },
    {
     "data": {
      "text/plain": [
       "[{'generated_text': \"Music to hear of the game's future, as well as its latest iteration being the third and third\"},\n",
       " {'generated_text': 'Music to hear a song.\\n\\nWhat kind of musical accompaniment does the album cover have?'},\n",
       " {'generated_text': 'Music to hear a band you love tell a live concert music song and listen on any device with Bluetooth'},\n",
       " {'generated_text': 'Music to hear in your browser.\\n\\n*The Music App offers you to send audio tracks in'},\n",
       " {'generated_text': \"Music to hear the music for free\\n\\nFor over a decade we've been trying to make music\"}]"
      ]
     },
     "execution_count": 4,
     "metadata": {},
     "output_type": "execute_result"
    }
   ],
   "source": [
    "text = \"Music to hear\"\n",
    "generator(text, max_length=20, num_return_sequences=5)"
   ]
  },
  {
   "cell_type": "code",
   "execution_count": 5,
   "id": "c31bf713-6982-43f9-8fa4-8093262113ad",
   "metadata": {
    "tags": []
   },
   "outputs": [
    {
     "name": "stderr",
     "output_type": "stream",
     "text": [
      "Special tokens have been added in the vocabulary, make sure the associated word embeddings are fine-tuned or trained.\n"
     ]
    },
    {
     "name": "stdout",
     "output_type": "stream",
     "text": [
      "Using retrained model version:  1\n"
     ]
    },
    {
     "name": "stderr",
     "output_type": "stream",
     "text": [
      "Setting `pad_token_id` to `eos_token_id`:50256 for open-end generation.\n"
     ]
    },
    {
     "data": {
      "text/plain": [
       "[{'generated_text': 'Music to hear (The word) the praises,'},\n",
       " {'generated_text': 'Music to hear is better than to know it.'},\n",
       " {'generated_text': 'Music to hear and to wind\\nMy love'},\n",
       " {'generated_text': 'Music to hear, from whom not it dwells'},\n",
       " {'generated_text': 'Music to hear, when others hear, with them'}]"
      ]
     },
     "execution_count": 5,
     "metadata": {},
     "output_type": "execute_result"
    }
   ],
   "source": [
    "suggestions.get(text)"
   ]
  },
  {
   "cell_type": "code",
   "execution_count": null,
   "id": "1850d99a-ebbe-453a-a3d8-5c4c67cdf44f",
   "metadata": {},
   "outputs": [],
   "source": []
  }
 ],
 "metadata": {
  "kernelspec": {
   "display_name": "transformers",
   "language": "python",
   "name": "transformers"
  },
  "language_info": {
   "codemirror_mode": {
    "name": "ipython",
    "version": 3
   },
   "file_extension": ".py",
   "mimetype": "text/x-python",
   "name": "python",
   "nbconvert_exporter": "python",
   "pygments_lexer": "ipython3",
   "version": "3.9.9"
  }
 },
 "nbformat": 4,
 "nbformat_minor": 5
}
