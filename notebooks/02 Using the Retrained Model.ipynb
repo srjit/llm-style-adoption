{
 "cells": [
  {
   "cell_type": "markdown",
   "id": "af405468-3327-44f8-86fa-d63375fab930",
   "metadata": {},
   "source": [
    "### Loading a retrained model"
   ]
  },
  {
   "cell_type": "code",
   "execution_count": 4,
   "id": "fc2355c1-14ad-488e-822e-e70d552b16c8",
   "metadata": {
    "tags": []
   },
   "outputs": [],
   "source": [
    "from transformers import pipeline, set_seed\n",
    "from transformers import GPT2Tokenizer\n"
   ]
  },
  {
   "cell_type": "code",
   "execution_count": 6,
   "id": "427e8285-1a40-4747-ae2c-6549d2b2a34d",
   "metadata": {
    "tags": []
   },
   "outputs": [
    {
     "name": "stderr",
     "output_type": "stream",
     "text": [
      "Special tokens have been added in the vocabulary, make sure the associated word embeddings are fine-tuned or trained.\n"
     ]
    }
   ],
   "source": [
    "path = \"model_save\"\n",
    "\n",
    "gpt_tokenizer = GPT2Tokenizer.from_pretrained('gpt2',\n",
    "                                          bos_token='<|startoftext|>', \n",
    "                                          eos_token='<|endoftext|>',\n",
    "                                          pad_token='<|pad|>')\n",
    "\n",
    "my_generator_2 = pipeline(task='text-generation', \n",
    "                          model=path,\n",
    "                          tokenizer=gpt_tokenizer,\n",
    "                          framework='pt')"
   ]
  },
  {
   "cell_type": "code",
   "execution_count": 9,
   "id": "fb9552a2-3651-4c98-ab6a-11463d2e6b28",
   "metadata": {
    "tags": []
   },
   "outputs": [
    {
     "name": "stderr",
     "output_type": "stream",
     "text": [
      "Setting `pad_token_id` to `eos_token_id`:50256 for open-end generation.\n"
     ]
    },
    {
     "data": {
      "text/plain": [
       "[{'generated_text': 'Client reflects a more balanced effect of your glass,\\nMy golden age did set me on this'},\n",
       " {'generated_text': 'Client reflects a more balanced course of policy than is shown in the very sight:\\n\\nFor'},\n",
       " {'generated_text': 'Client reflects a more balanced way, wherein beauty hath seen,\\nSince beauty was born with the'},\n",
       " {'generated_text': 'Client reflects a more balanced heart,\\nResident in every respect,\\nHis dear friend to'},\n",
       " {'generated_text': 'Client reflects a more balanced mind than that which it hath taught.\\nBut what is well-'}]"
      ]
     },
     "execution_count": 9,
     "metadata": {},
     "output_type": "execute_result"
    }
   ],
   "source": [
    "text = \"Client reflects a more balanced\"\n",
    "my_generator_2(text, max_length=20, num_return_sequences=5)"
   ]
  }
 ],
 "metadata": {
  "kernelspec": {
   "display_name": "transformers",
   "language": "python",
   "name": "transformers"
  },
  "language_info": {
   "codemirror_mode": {
    "name": "ipython",
    "version": 3
   },
   "file_extension": ".py",
   "mimetype": "text/x-python",
   "name": "python",
   "nbconvert_exporter": "python",
   "pygments_lexer": "ipython3",
   "version": "3.9.9"
  }
 },
 "nbformat": 4,
 "nbformat_minor": 5
}
