{
 "cells": [
  {
   "cell_type": "markdown",
   "id": "af405468-3327-44f8-86fa-d63375fab930",
   "metadata": {},
   "source": [
    "### Loading a retrained model"
   ]
  },
  {
   "cell_type": "code",
   "execution_count": 4,
   "id": "fc2355c1-14ad-488e-822e-e70d552b16c8",
   "metadata": {
    "tags": []
   },
   "outputs": [],
   "source": [
    "from transformers import pipeline, set_seed\n",
    "from transformers import GPT2Tokenizer\n"
   ]
  },
  {
   "cell_type": "code",
   "execution_count": 6,
   "id": "427e8285-1a40-4747-ae2c-6549d2b2a34d",
   "metadata": {
    "tags": []
   },
   "outputs": [
    {
     "name": "stderr",
     "output_type": "stream",
     "text": [
      "Special tokens have been added in the vocabulary, make sure the associated word embeddings are fine-tuned or trained.\n"
     ]
    }
   ],
   "source": [
    "path = \"model_save\"\n",
    "\n",
    "gpt_tokenizer = GPT2Tokenizer.from_pretrained('gpt2',\n",
    "                                          bos_token='<|startoftext|>', \n",
    "                                          eos_token='<|endoftext|>',\n",
    "                                          pad_token='<|pad|>')\n",
    "\n",
    "my_generator_2 = pipeline(task='text-generation', \n",
    "                          model=path,\n",
    "                          tokenizer=gpt_tokenizer,\n",
    "                          framework='pt')"
   ]
  },
  {
   "cell_type": "code",
   "execution_count": 1,
   "id": "fb9552a2-3651-4c98-ab6a-11463d2e6b28",
   "metadata": {
    "tags": []
   },
   "outputs": [
    {
     "ename": "NameError",
     "evalue": "name 'my_generator_2' is not defined",
     "output_type": "error",
     "traceback": [
      "\u001b[0;31m---------------------------------------------------------------------------\u001b[0m",
      "\u001b[0;31mNameError\u001b[0m                                 Traceback (most recent call last)",
      "Cell \u001b[0;32mIn[1], line 2\u001b[0m\n\u001b[1;32m      1\u001b[0m text \u001b[38;5;241m=\u001b[39m \u001b[38;5;124m\"\u001b[39m\u001b[38;5;124mClient reflects a more balanced\u001b[39m\u001b[38;5;124m\"\u001b[39m\n\u001b[0;32m----> 2\u001b[0m \u001b[43mmy_generator_2\u001b[49m(text, max_length\u001b[38;5;241m=\u001b[39m\u001b[38;5;241m20\u001b[39m, num_return_sequences\u001b[38;5;241m=\u001b[39m\u001b[38;5;241m5\u001b[39m)\n",
      "\u001b[0;31mNameError\u001b[0m: name 'my_generator_2' is not defined"
     ]
    }
   ],
   "source": [
    "text = \"Client reflects a more balanced\"\n",
    "my_generator_2(text, max_length=20, num_return_sequences=5)"
   ]
  },
  {
   "cell_type": "code",
   "execution_count": null,
   "id": "81dd94f6-fbb8-438b-b4ec-710f596e78ab",
   "metadata": {},
   "outputs": [],
   "source": []
  }
 ],
 "metadata": {
  "kernelspec": {
   "display_name": "transformers",
   "language": "python",
   "name": "transformers"
  },
  "language_info": {
   "codemirror_mode": {
    "name": "ipython",
    "version": 3
   },
   "file_extension": ".py",
   "mimetype": "text/x-python",
   "name": "python",
   "nbconvert_exporter": "python",
   "pygments_lexer": "ipython3",
   "version": "3.9.9"
  }
 },
 "nbformat": 4,
 "nbformat_minor": 5
}
